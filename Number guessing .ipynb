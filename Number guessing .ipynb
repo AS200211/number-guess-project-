{
 "cells": [
  {
   "cell_type": "code",
   "execution_count": 5,
   "id": "98779b7b",
   "metadata": {},
   "outputs": [
    {
     "name": "stdout",
     "output_type": "stream",
     "text": [
      "Enter Lower bound:- 5\n",
      "Enter Upper bound:- 863\n",
      "You have to guess a number\n",
      "Try to guess a number in minimum attempt\n",
      "Guess a number:- 500\n",
      "You guessed too small!\n",
      "Guess a number:- 600\n",
      "You Guessed too high!\n",
      "Guess a number:- 550\n",
      "You guessed too small!\n",
      "Guess a number:- 575\n",
      "You Guessed too high!\n",
      "Guess a number:- 560\n",
      "You Guessed too high!\n",
      "Guess a number:- 555\n",
      "You guessed too small!\n",
      "Guess a number:- 557\n",
      "You guessed too small!\n",
      "Guess a number:- 559\n",
      "You Guessed too high!\n",
      "Guess a number:- 558\n",
      "Congratulations you did it in  9  try\n"
     ]
    }
   ],
   "source": [
    "import random\n",
    "import math\n",
    "#Lower range input\n",
    "A = int(input(\"Enter Lower bound:- \"))\n",
    "\n",
    "#Upper range input\n",
    "B = int(input(\"Enter Upper bound:- \"))\n",
    "\n",
    "# generating random number between the lower and Upper range\n",
    "x = random.randint(A,B)\n",
    "\n",
    "# Initializing the number of guesses.\n",
    "count = 0\n",
    "print(\"You have to guess a number\")\n",
    "print(\"Try to guess a number in minimum attempt\")\n",
    "# for calculation of minimum number of\n",
    "# guesses depends upon range\n",
    "guess = -1\n",
    "while guess!=x:\n",
    "    count += 1\n",
    "\n",
    "    # taking guessing number as input\n",
    "    guess = int(input(\"Guess a number:- \"))\n",
    "\n",
    "    # Condition testing\n",
    "    if x == guess:\n",
    "        print(\"Congratulations you did it in \",count, \" try\")\n",
    "        # Once guessed, loop will break\n",
    "        break\n",
    "    elif x > guess:\n",
    "        print(\"You guessed too small!\")\n",
    "    elif x < guess:\n",
    "        print(\"You Guessed too high!\")\n",
    "\n"
   ]
  },
  {
   "cell_type": "code",
   "execution_count": null,
   "id": "df802e71",
   "metadata": {},
   "outputs": [],
   "source": []
  }
 ],
 "metadata": {
  "kernelspec": {
   "display_name": "Python 3",
   "language": "python",
   "name": "python3"
  },
  "language_info": {
   "codemirror_mode": {
    "name": "ipython",
    "version": 3
   },
   "file_extension": ".py",
   "mimetype": "text/x-python",
   "name": "python",
   "nbconvert_exporter": "python",
   "pygments_lexer": "ipython3",
   "version": "3.8.8"
  }
 },
 "nbformat": 4,
 "nbformat_minor": 5
}
